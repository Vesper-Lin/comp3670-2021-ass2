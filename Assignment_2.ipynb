{
 "cells": [
  {
   "cell_type": "markdown",
   "metadata": {},
   "source": [
    "## COMP3670/6670 Programming Assignment 2 - Clustering, Linear Regression and Gradient Descent\n",
    "---\n",
    "\n",
    "**Enter Your Student ID:** u6828533\n",
    "\n",
    "**Your Name:** Yuxuan Lin\n",
    "    \n",
    "**Deadline:** 23:59pm, 19 September, 2021\n",
    "\n",
    "**Submit:** Write your answers in this file, and submit a single Jupyter Notebook file (.ipynb) on Wattle. Rename this file with your student number as 'u6828533.ipynb'. Note: you don't need to submit the .png or .npy files. \n",
    "\n",
    "**Enter Discussion Partner IDs Below:**\n",
    "You could add more IDs with the same markdown format above.\n",
    "\n",
    "**Programming Section**:\n",
    "- 1: 30%\n",
    "- 2: 40%\n",
    "- 3: 30%"
   ]
  },
  {
   "cell_type": "code",
   "execution_count": 1,
   "metadata": {},
   "outputs": [],
   "source": [
    "import numpy as np\n",
    "import matplotlib.pyplot as plt\n",
    "import math\n",
    "\n",
    "np.random.seed(1)\n"
   ]
  },
  {
   "cell_type": "markdown",
   "metadata": {},
   "source": [
    "## Task1: Clustering\n",
    "-----------\n",
    "These programming exercises will focus on K-means clustering. \n",
    "\n",
    "If you're unsure of how k-means works, read this very helpful and freely available online breakdown from Stanford's CS221 course; https://stanford.edu/~cpiech/cs221/handouts/kmeans.html\n",
    "\n",
    "This assignment requires you to loosely interpret how k-means is a specific case of a more general algorithm named Expectation Maximisation. This is explained toward the end of the above article.\n",
    "\n",
    "First, lets loading the dataset."
   ]
  },
  {
   "cell_type": "code",
   "execution_count": 2,
   "metadata": {},
   "outputs": [
    {
     "data": {
      "image/png": "[encoded data removed]",
      "text/plain": [
       "<Figure size 432x288 with 1 Axes>"
      ]
     },
     "metadata": {
      "needs_background": "light"
     },
     "output_type": "display_data"
    }
   ],
   "source": [
    "X = np.load(\"./data_clustering.npy\")\n",
    "plt.scatter(X[:,0], X[:,1])\n",
    "plt.show()"
   ]
  },
  {
   "cell_type": "markdown",
   "metadata": {},
   "source": [
    "K-means is a special, simple case of the Expectation Maximisation (EM) algorithm.\n",
    "\n",
    "This simplified EM (k-means), is divided into two steps.\n",
    "\n",
    "The **E-Step**, where for every sample in your dataset you find which \"centroid\" that datapoint is closest to that sample, and record that information.\n",
    "\n",
    "The **M-Step**, where you move each \"centroid\" to the center of the samples which were found to be closest to it in the **E-Step**.\n",
    "\n",
    "Each *centroid* is simply an estimated mean of a cluster. If you have $1$ centroid, then this centroid will become the mean of all your data.\n",
    "\n",
    "Centroids are initially random values, and the k-means algorithm attempts to modify them so that each one represents the center of a cluster.\n",
    "\n",
    "We have implemented a centroids initialization function."
   ]
  },
  {
   "cell_type": "code",
   "execution_count": 3,
   "metadata": {},
   "outputs": [
    {
     "name": "stdout",
     "output_type": "stream",
     "text": [
      "[[ 0.55638768  1.19083041]\n",
      " [ 0.99468733 -0.63105385]\n",
      " [-0.80861347 -0.47487527]\n",
      " [ 0.83443335  0.7038998 ]]\n"
     ]
    }
   ],
   "source": [
    "def initialise_parameters(m, X):\n",
    "    C = X[np.random.choice(X.shape[0], m)]\n",
    "    return C\n",
    "\n",
    "C = initialise_parameters(4, X)\n",
    "print(C)"
   ]
  },
  {
   "cell_type": "markdown",
   "metadata": {},
   "source": [
    "Now let's implement K-Means algorithm.\n",
    "\n",
    "---\n",
    "   **TASK 1.1:** Create a function $E\\_step(C, X) = L$, where $L$ is a matrix of the same dimension of the dataset $X$.\n",
    "   \n",
    "   This function is is the **E-Step** (or \"assignment step\") mentioned earlier.\n",
    "\n",
    "---\n",
    "\n",
    "**HINT:** \n",
    "- https://stanford.edu/~cpiech/cs221/handouts/kmeans.html\n",
    "- https://en.wikipedia.org/wiki/K-means_clustering#Standard_algorithm\n",
    "- Each row of $L$ is a centroid taken from $C$."
   ]
  },
  {
   "cell_type": "code",
   "execution_count": 4,
   "metadata": {},
   "outputs": [
    {
     "ename": "IndentationError",
     "evalue": "expected an indented block (<ipython-input-4-0d662f4661ac>, line 4)",
     "output_type": "error",
     "traceback": [
      "\u001b[1;36m  File \u001b[1;32m\"<ipython-input-4-0d662f4661ac>\"\u001b[1;36m, line \u001b[1;32m4\u001b[0m\n\u001b[1;33m    L = E_step(C, X)\u001b[0m\n\u001b[1;37m    ^\u001b[0m\n\u001b[1;31mIndentationError\u001b[0m\u001b[1;31m:\u001b[0m expected an indented block\n"
     ]
    }
   ],
   "source": [
    "def E_step(C, X):\n",
    "    # YOUR CODE HERE\n",
    "\n",
    "L = E_step(C, X)\n",
    "plt.scatter(L[:, 0], L[:, 1])\n",
    "plt.show()"
   ]
  },
  {
   "cell_type": "markdown",
   "metadata": {},
   "source": [
    "**TASK 1.2:** Create a function $M\\_step(C, X, L) = C$ which returns $C$ modified so that each centroid in $C$ is placed in the middle of the samples assigned to it. This is the **M-Step**.\n",
    "\n",
    "In other words, make each centroid in $C$ the average of all the samples which were found to be closest to it during the **E-step**. This is also called the \"update step\" for K-means.\n",
    "\n",
    "---\n",
    "\n",
    "**HINT:** https://docs.scipy.org/doc/numpy/reference/generated/numpy.array_equal.html"
   ]
  },
  {
   "cell_type": "code",
   "execution_count": null,
   "metadata": {},
   "outputs": [],
   "source": [
    "def M_step(C, X, L):\n",
    "    # YOUR CODE HERE\n",
    "\n",
    "\n",
    "print('Before:')\n",
    "print(C)\n",
    "print('\\nAfter:')\n",
    "new_C = M_step(C, X, L)\n",
    "print(new_C)"
   ]
  },
  {
   "cell_type": "markdown",
   "metadata": {},
   "source": [
    "**TASK 1.3:** Implement $kmeans(X, m, i) = C, L$ which takes a dataset $X$ (of any dimension) and a scalar value $m$, and uses the previous 3 functions you wrote to:\n",
    "- generate $m$ centroids.\n",
    "- iterate between the E and M steps $i$ times (ie, it iterates $i$ times) to classify the $m$ clusters.\n",
    "\n",
    "...and then returns:\n",
    "- $C$, the centers of the $m$ clusters after $i$ iterations.\n",
    "- $L$, the labels (centroid values) assigned to each sample in the dataset after $i$ iterations.\n",
    "---\n",
    "**HINT:** Using initialise_parameters to initial centroid"
   ]
  },
  {
   "cell_type": "code",
   "execution_count": null,
   "metadata": {},
   "outputs": [],
   "source": [
    "def kmeans(X, m, i):\n",
    "    # YOUR CODE HERE\n",
    "\n",
    "\n",
    "#CODE TO DISPLAY YOUR RESULTS. DO NOT MODIFY.\n",
    "C_final, L_final = kmeans(X, 4, 10)\n",
    "print('Initial Parameters:')\n",
    "print(C)\n",
    "print('\\nFinal Parameters:')\n",
    "print(C_final)\n",
    "\n",
    "def allocator(X, L, c):\n",
    "    cluster = []\n",
    "    for i in range(L.shape[0]):\n",
    "        if np.array_equal(L[i, :], c):\n",
    "            cluster.append(X[i, :])\n",
    "    return np.asarray(cluster)\n",
    "\n",
    "colours = ['r', 'g', 'b', 'y']\n",
    "for i in range(4):\n",
    "    cluster = allocator(X, L_final, C_final[i, :])\n",
    "    plt.scatter(cluster[:,0], cluster[:,1], c=colours[i])\n",
    "plt.show()"
   ]
  },
  {
   "cell_type": "markdown",
   "metadata": {},
   "source": [
    "Your answer should like this, maybe with different colors:\n",
    "![image](./cluster.png)"
   ]
  },
  {
   "cell_type": "markdown",
   "metadata": {},
   "source": [
    "---\n",
    "**TASK 1.4:** Explain how do you find the number of centroids\n",
    "\n",
    "---\n",
    "**Answer:**"
   ]
  },
  {
   "cell_type": "markdown",
   "metadata": {},
   "source": [
    "## Task 2: Linear Regression and Gradient Descent\n",
    "---\n",
    "\n",
    "For exercise 2, we're going to implement multiple target **batch** linear regression with mean squared loss,\n",
    "\n",
    "$$\\mathcal{L} = \\frac{1}{2 m} \\sum_{i = 0}^{m} \\mid \\mid x_i\\theta - y_i \\mid \\mid^2$$.\n",
    "\n",
    "For the following questions:\n",
    "- $x \\in \\mathbb{R}^{m}$ is the vector directly representing input features from the provided dataset. Each row of $x$ is a single training example.\n",
    "- $X \\in \\mathbb{R}^{m \\times n}$ is the constructed feature matrix (e.g. polynomial features) used for learning. Each row of $X$ is a single training example.\n",
    "- $\\theta$ is our parameters. In the linear regression you've seen thus far, this is a vector. However, as we're doing multiple target linear regression, $\\theta$ will be a matrix.\n",
    "- $y \\in \\mathbb{R}^{m}$ is a matrix of the target values we're trying to estimate for each row of $X$. Each row $i$ of $X$ corresponds to row $i$ of $Y$.\n",
    "- $m$ is the number of training examples.\n",
    "- $n$ is the dimensionality of one training example.\n",
    "\n",
    "Typically when people think of linear regression, they think of a mapping from $\\mathbb{R}^n \\rightarrow \\mathbb{R}$, where they're trying to predict a single scalar value.\n",
    "\n",
    "---\n",
    "First, we load the data."
   ]
  },
  {
   "cell_type": "code",
   "execution_count": null,
   "metadata": {},
   "outputs": [],
   "source": [
    "x_train, x_val, y_train, y_val = np.load(\"./data_regression.npy\")\n",
    "plt.plot(x_train,y_train,'o') ## YOUR CODE HERE\n",
    "plt.xlabel('x')\n",
    "plt.ylabel('y')\n",
    "plt.title(\"Training data\")\n",
    "plt.ylim([-1,3])\n",
    "plt.show()"
   ]
  },
  {
   "cell_type": "markdown",
   "metadata": {},
   "source": [
    "It is obvious that it is not a good idea to perform linear regression directly on the input feature `x`. We need to add polynomial features. Lets construct an appropriate feature vector.\n",
    "\n",
    "---\n",
    "**Task 2.1**:  Complete the `get_polynomial_features` function with the following specifications.\n",
    "* Input1: an array `x` of shape $(m,1)$.\n",
    "* Input2: `degree` of the polynomial (integer greater than or equal to one).\n",
    "* Output: matrix of shape $(m,degree+1)$ consisting of horizontally concatenated polynomial terms.\n",
    "* Output: the first column of output matrix should be all ones.\n",
    "---"
   ]
  },
  {
   "cell_type": "code",
   "execution_count": null,
   "metadata": {},
   "outputs": [],
   "source": [
    "def get_polynomial_features(x,degree=5):\n",
    "    # YOUR CODE HERE\n",
    "    \n",
    "\n",
    "# get polynomial features\n",
    "X_train = get_polynomial_features(x_train,degree=5)"
   ]
  },
  {
   "cell_type": "markdown",
   "metadata": {},
   "source": [
    "Let us implement gradient descent to find the optimal $\\theta$.\n",
    "\n",
    "\n",
    "---\n",
    "**TASK 2.2:** Write a function $initialise\\_parameters(n) = \\theta$, where $\\theta$ is the parameters we will use for linear regression $X\\theta = Y$ for $X \\in \\mathbb{R}^{m \\times n}, Y \\in \\mathbb{R}^{m}$.\n",
    "\n",
    "The values of $\\theta$ should be randomly generated. You will be judged on whether the matrix $\\theta$ is correctly constructed for this problem.\n",
    "\n",
    "\n",
    "---\n",
    "\n",
    "**HINT:** $\\theta$ should be an array of length $n$."
   ]
  },
  {
   "cell_type": "code",
   "execution_count": null,
   "metadata": {
    "scrolled": true
   },
   "outputs": [],
   "source": [
    "def initialise_parameters(n):\n",
    "    # YOUR CODE HERE\n",
    "\n",
    "# initialize theta\n",
    "theta = initialise_parameters(X_train.shape[1])\n",
    "print(theta)"
   ]
  },
  {
   "cell_type": "markdown",
   "metadata": {},
   "source": [
    "---\n",
    "**TASK 2.3:** Implement a function $ms\\_error(X, \\theta, y) = err$, which gives the **mean** squared error over all $m$ training examples.\n",
    "\n",
    "---"
   ]
  },
  {
   "cell_type": "code",
   "execution_count": null,
   "metadata": {},
   "outputs": [],
   "source": [
    "def ms_error(X, theta, y):\n",
    "    # YOUR CODE HERE\n",
    "\n",
    "\n",
    "print(ms_error(X_train, theta, y_train))"
   ]
  },
  {
   "cell_type": "markdown",
   "metadata": {},
   "source": [
    "---\n",
    "\n",
    "**TASK 2.4:** Implement $grad(X, \\theta, Y) = g$, a function that returns the average gradient ($\\partial \\mathcal{L}/\\partial {\\theta}$) across all the training examples $x_i \\in \\mathbb{R}^{1 \\times n}$.\n",
    "\n",
    "---\n",
    "\n",
    "**HINT:** \n",
    "- The gradient should be an array with same length as $\\theta$.\n",
    "- https://www.sharpsightlabs.com/blog/numpy-sum/\n",
    "- https://docs.scipy.org/doc/numpy/reference/generated/numpy.multiply.html\n",
    "- https://docs.scipy.org/doc/numpy/reference/generated/numpy.tile.html"
   ]
  },
  {
   "cell_type": "code",
   "execution_count": null,
   "metadata": {},
   "outputs": [],
   "source": [
    "def grad(X, theta, Y):\n",
    "    # YOUR CODE HERE\n",
    "\n",
    "\n",
    "print(grad(X_train, theta, y_train))"
   ]
  },
  {
   "cell_type": "markdown",
   "metadata": {},
   "source": [
    "---\n",
    "\n",
    "**TASK 2.5:** Implement $batch\\_descent(X, Y, iterations, learning\\_rate) = \\theta, L$, a function which implements batch gradient descent returning $\\theta$ (parameters which estimate $Y$ from $X$), and $L$.\n",
    "\n",
    "$iterations$ is the number of gradient descent iterations to be performed.\n",
    "\n",
    "$learning\\_rate$ is, of course, the learning rate.\n",
    "\n",
    "$L$ is a matrix recording the mean squared error at every iteration of gradient descent. It will be an array of length $iterations$.\n",
    "\n",
    "You should use the functions you completed earlier to complete this. \n",
    "\n",
    "---\n",
    "\n",
    "**HINT:** \n",
    "- Remember, the point of gradient descent is to minimise the loss function. \n",
    "- It does this by taking \"steps\". The gradient always points in the steepest direction uphill, so by stepping in the opposite direction of the gradient we move toward the value of $\\theta$ that minimises the loss function."
   ]
  },
  {
   "cell_type": "code",
   "execution_count": null,
   "metadata": {},
   "outputs": [],
   "source": [
    "def batch_descent(X, Y, iterations, learning_rate):\n",
    "    # YOUR CODE HERE\n",
    "\n",
    "\n",
    "#REPORTING CODE. YOU MAY NEED TO MODIFY THE LEARNING RATE OR NUMBER OF ITERATIONS\n",
    "new_theta, L = batch_descent(X_train, y_train, 5000, 0.5)\n",
    "plt.plot(L)\n",
    "plt.title('Mean Squared Error vs Iterations')\n",
    "plt.show()\n",
    "print('New Theta: \\n', new_theta)\n",
    "print('\\nFinal Mean Squared Error: \\n', ms_error(X_train, new_theta, y_train))"
   ]
  },
  {
   "cell_type": "markdown",
   "metadata": {},
   "source": [
    "## Task 3: Regularization and Model Selection\n",
    "---\n",
    "\n",
    "In task 2, we focussed on using gradient descent to do linear regression with a polynomial of degree 5.\n",
    "\n",
    "Next, we would try to select a model that gives best performance on the val set."
   ]
  },
  {
   "cell_type": "markdown",
   "metadata": {},
   "source": [
    "---\n",
    "**Task 3.1**:  Visualize the prediction curves for different choice of degree polynomial features, by completing the code below. \n",
    "\n",
    "- You can use the closed form solution or gradient descent for computing $\\theta$.\n",
    "- Compute the predictions on val data using `x_val` and computed $\\theta$.\n",
    "---"
   ]
  },
  {
   "cell_type": "code",
   "execution_count": null,
   "metadata": {},
   "outputs": [],
   "source": [
    "def get_theta(X,y):\n",
    "    # YOUR CODE HERE\n",
    "\n",
    "\n",
    "def get_prediction(X,theta):\n",
    "    # YOUR CODE HERE\n",
    "\n",
    "\n",
    "for degree in range(1,10):\n",
    "    # prepare train/val data\n",
    "    X_train = get_polynomial_features(x_train,degree=degree)\n",
    "    x_val = np.linspace(-0.7, 0.8, x_val.shape[0])\n",
    "    X_val = get_polynomial_features(x_val,degree=degree)\n",
    "    \n",
    "    # get theta\n",
    "    theta = get_theta(X_train,y_train)\n",
    "    \n",
    "    # compute predictions on train/val set\n",
    "    pred_y_train = get_prediction(X_train,theta)\n",
    "    pred_y_val = get_prediction(X_val,theta)\n",
    "    \n",
    "    # plot results\n",
    "    plt.plot(x_train,y_train,'o',label='train')\n",
    "    plt.plot(x_val,pred_y_val,label='val')\n",
    "    plt.legend()\n",
    "    plt.xlabel('x')\n",
    "    plt.ylabel('y')\n",
    "    plt.title(\"polynomial degree: {}\".format(degree))\n",
    "    plt.ylim([-1,3])\n",
    "    plt.show()"
   ]
  },
  {
   "cell_type": "markdown",
   "metadata": {},
   "source": [
    "---\n",
    "**Task 2.2**:  Draw the train, val loss curve for different degree polynomials by completing the following code.\n",
    "\n",
    "---\n"
   ]
  },
  {
   "cell_type": "code",
   "execution_count": null,
   "metadata": {},
   "outputs": [],
   "source": [
    "x_train, x_val, y_train, y_val = np.load(\"./data_regression.npy\")\n",
    "# store train/val loss values\n",
    "train_loss,val_loss = [],[]\n",
    "\n",
    "for degree in range(1,10):\n",
    "    # prepare train/val data\n",
    "    X_train =     # YOUR CODE HERE\n",
    "    X_val =     # YOUR CODE HERE\n",
    "\n",
    "    # get theta\n",
    "    theta = get_theta(# YOUR CODE HERE)\n",
    "    \n",
    "    # compute train/val losses\n",
    "    train_loss.append(# YOUR CODE HERE)\n",
    "    val_loss.append(# YOUR CODE HERE)\n",
    "    \n",
    "\n",
    "plt.plot(range(1,10),train_loss,'-o',label='train loss')\n",
    "plt.plot(range(1,10),val_loss,'-o',label='val loss')\n",
    "plt.xticks(range(1,10))\n",
    "plt.legend()\n",
    "plt.title('Train/Val Loss vs polynomial order')\n",
    "plt.show()"
   ]
  },
  {
   "cell_type": "markdown",
   "metadata": {},
   "source": [
    "\n",
    "---\n",
    "**Task 2.3**:  What is the best choice for degree of polynomial features suitable for this problem?\n",
    "\n",
    "---\n",
    "\n",
    "**Answer**: "
   ]
  }
 ],
 "metadata": {
  "kernelspec": {
   "display_name": "Python 3",
   "language": "python",
   "name": "python3"
  },
  "language_info": {
   "codemirror_mode": {
    "name": "ipython",
    "version": 3
   },
   "file_extension": ".py",
   "mimetype": "text/x-python",
   "name": "python",
   "nbconvert_exporter": "python",
   "pygments_lexer": "ipython3",
   "version": "3.9.6"
  }
 },
 "nbformat": 4,
 "nbformat_minor": 4
}
